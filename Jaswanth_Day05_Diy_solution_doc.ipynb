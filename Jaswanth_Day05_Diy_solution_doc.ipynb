{
  "nbformat": 4,
  "nbformat_minor": 0,
  "metadata": {
    "colab": {
      "provenance": [],
      "authorship_tag": "ABX9TyO1Vhah8w7ZalJaY71vE2rO",
      "include_colab_link": true
    },
    "kernelspec": {
      "name": "python3",
      "display_name": "Python 3"
    },
    "language_info": {
      "name": "python"
    }
  },
  "cells": [
    {
      "cell_type": "markdown",
      "metadata": {
        "id": "view-in-github",
        "colab_type": "text"
      },
      "source": [
        "<a href=\"https://colab.research.google.com/github/jaswanthmathan/project/blob/main/Jaswanth_Day05_Diy_solution_doc.ipynb\" target=\"_parent\"><img src=\"https://colab.research.google.com/assets/colab-badge.svg\" alt=\"Open In Colab\"/></a>"
      ]
    },
    {
      "cell_type": "code",
      "execution_count": null,
      "metadata": {
        "id": "iMQ4T7jFt-wI"
      },
      "outputs": [],
      "source": []
    },
    {
      "cell_type": "markdown",
      "source": [
        "Write a Python program to create a math quiz that generates math questions\n",
        "using random numbers and operators and asks the user to enter the correct\n",
        "answer; evaluate the answer entered by the user and print a message whether\n",
        "the answer is correct or incorrect."
      ],
      "metadata": {
        "id": "QuiMPUGBuLw0"
      }
    },
    {
      "cell_type": "code",
      "source": [
        "import random\n",
        "def generate_question():\n",
        "  # generate random number\n",
        "   num1= random.randint(1,10)\n",
        "   num2= random.randint(1,10)\n",
        "   # generate random operateor\n",
        "   operators=['+','-','*','/']\n",
        "   operator= random.choice(operators)\n",
        "   #question\n",
        "   a= input('what is your name')\n",
        "   print('alright',a,' welcome to the quiz')\n",
        "   question= f'{num1} {operator} {num2}='\n",
        "   print(question)\n",
        "   answer= int(input('what is your answer'))\n",
        "   #corrent answer\n",
        "   if operator =='+':\n",
        "     return question,num1+num2\n",
        "   elif operator== '-':\n",
        "     return question, num1-num2\n",
        "   elif operator== '*':\n",
        "     return question, num1*num2\n",
        "   else :\n",
        "     return question , num1/num2\n",
        "\n",
        "\n",
        "def run_quiz():\n",
        "   question,b = generate_question()\n",
        "   user_answer= input(question)\n",
        "   if float (user_answer) ==b :\n",
        "       print('correct!')\n",
        "   else:\n",
        "       print ('incorrect.')\n",
        "   \n",
        "run_quiz()"
      ],
      "metadata": {
        "colab": {
          "base_uri": "https://localhost:8080/"
        },
        "id": "fbdOYpXVuNSo",
        "outputId": "0c0fda48-0bee-4310-a4c9-bed3402a179c"
      },
      "execution_count": null,
      "outputs": [
        {
          "output_type": "stream",
          "name": "stdout",
          "text": [
            "what is your namejaswam\n",
            "alright jaswam  welcome to the quiz\n",
            "9 / 4=\n",
            "what is your answer67\n",
            "9 / 4=67\n",
            "incorrect.\n"
          ]
        }
      ]
    },
    {
      "cell_type": "markdown",
      "source": [
        "Write a Python program to create a Bus object that will inherit all the variables\n",
        "and methods of the parent Vehicle class and display it."
      ],
      "metadata": {
        "id": "PfMFyKFZuUgY"
      }
    },
    {
      "cell_type": "code",
      "source": [
        "class vehicle:\n",
        "     def __init__(self,name, milege,speed):\n",
        "        self.n=name\n",
        "        self.mileage=milege\n",
        "        self.speed=speed\n",
        "\n",
        "class bus (vehicle):\n",
        "       pass\n",
        "\n",
        "a=bus('volvo','14','100')\n",
        "print('vehiclename',a.n,'mileage',a.mileage,'speed',a.speed)\n",
        "\n",
        "\n"
      ],
      "metadata": {
        "colab": {
          "base_uri": "https://localhost:8080/"
        },
        "id": "67Ux8WxH5t5S",
        "outputId": "d0ef1292-ec66-47c8-a4be-ced0a652c102"
      },
      "execution_count": null,
      "outputs": [
        {
          "output_type": "stream",
          "name": "stdout",
          "text": [
            "vehiclename volvo mileage 14 speed 100\n"
          ]
        }
      ]
    },
    {
      "cell_type": "markdown",
      "source": [],
      "metadata": {
        "id": "6vfCHC5luWxB"
      }
    }
  ]
}