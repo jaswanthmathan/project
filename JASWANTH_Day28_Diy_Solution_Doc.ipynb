{
  "nbformat": 4,
  "nbformat_minor": 0,
  "metadata": {
    "colab": {
      "provenance": [],
      "authorship_tag": "ABX9TyNjOMd6n3ZxlJsvbvR8WrTg",
      "include_colab_link": true
    },
    "kernelspec": {
      "name": "python3",
      "display_name": "Python 3"
    },
    "language_info": {
      "name": "python"
    }
  },
  "cells": [
    {
      "cell_type": "markdown",
      "metadata": {
        "id": "view-in-github",
        "colab_type": "text"
      },
      "source": [
        "<a href=\"https://colab.research.google.com/github/jaswanthmathan/project/blob/main/JASWANTH_Day28_Diy_Solution_Doc.ipynb\" target=\"_parent\"><img src=\"https://colab.research.google.com/assets/colab-badge.svg\" alt=\"Open In Colab\"/></a>"
      ]
    },
    {
      "cell_type": "markdown",
      "source": [
        "Q1. Problem Statement: Statistical Hypothesis Testing\n",
        "A company claims that its employees earn approximately 5LPA on average. A\n",
        "random sample of 50 employees was taken, and it turned out to have a mean of\n",
        "2 LPA. Perform hypothesis testing for the given claim having a population mean\n",
        "of 5 LPA with a standard deviation of 3.\n",
        "H0:u (Null hypothesis) = Employees are earning on an average around 5LPA\n",
        "H1:u (Alternate hypothesis) = Employees are not earning 5LPA on an average\n"
      ],
      "metadata": {
        "id": "ow1_kQeZ24fS"
      }
    },
    {
      "cell_type": "code",
      "source": [
        "\n",
        "import math as mt\n",
        "\n",
        "total_mean=5\n",
        "sample_mean=5\n",
        "standard_deviation=3\n",
        "sample_size=50\n",
        "\n",
        "a=1.96\n",
        "error=standard_deviation/mt.sqrt(sample_size)\n",
        "upper_value=int(total_mean+(a*error))\n",
        "lower_value=int(total_mean-(a*error))\n",
        "\n",
        "print('u and l value is :',upper_value,lower_value)\n",
        "if(upper_value<sample_mean or sample_mean<lower_value):\n",
        "    print('we are rejacting null hypothises and accepting alternative hypotises')\n",
        "else:\n",
        "      print('we ar accepting hypothesis')\n",
        "\n"
      ],
      "metadata": {
        "colab": {
          "base_uri": "https://localhost:8080/"
        },
        "id": "aMPCPkNG3Qr4",
        "outputId": "39bccc8b-b496-430a-cf86-5bbbe55617e0"
      },
      "execution_count": null,
      "outputs": [
        {
          "output_type": "stream",
          "name": "stdout",
          "text": [
            "u and l value is : 5 4\n",
            "we ar accepting hypothesis\n"
          ]
        }
      ]
    },
    {
      "cell_type": "markdown",
      "source": [
        "Q2. Problem Statement: Statistical Hypothesis Testing\n",
        "A Tyre manufacturing company claims that their original Tyres run for about\n",
        "50,000 km before replacing them. A random sample of 100 tyres was taken, and\n",
        "it turned out that the average life of the sample was about 48,000 Km. To find\n",
        "out whether the company said the truth or lie, based on standard deviations as\n",
        "1500.\n",
        "H0:u = Tyres run for about 50,000 km before having to replace them (Null\n",
        "hypothesis)\n",
        "H1: u = Tyres can’t run for about 50,000 km before having to replace\n",
        "them(Alternate hypothesis)"
      ],
      "metadata": {
        "id": "08OmdjKY54ce"
      }
    },
    {
      "cell_type": "code",
      "source": [
        "\n",
        "import math as mt\n",
        "\n",
        "total_mean=50000\n",
        "sample_mean=48000\n",
        "standard_deviation=1500\n",
        "sample_size=100\n",
        "\n",
        "\n",
        "\n",
        "a=1.96\n",
        "error=standard_deviation/mt.sqrt(sample_size)\n",
        "\n",
        "\n",
        "\n",
        "\n",
        "upper_value=int(total_mean+(a*error))\n",
        "lower_value=int(total_mean-(a*error))\n",
        "print('u and l value is :',upper_value,lower_value)\n",
        "\n",
        "if(upper_value<sample_mean or sample_mean<lower_value):\n",
        "    print('we are rejacting null hypothises and accepting alternative hypotises')\n",
        "else:\n",
        "      print('we ar accepting hypothesis')"
      ],
      "metadata": {
        "colab": {
          "base_uri": "https://localhost:8080/"
        },
        "id": "AN4V6cjK6GKC",
        "outputId": "ab44f28e-dce9-4b30-83f0-44438d87f2f0"
      },
      "execution_count": null,
      "outputs": [
        {
          "output_type": "stream",
          "name": "stdout",
          "text": [
            "u and l value is : 50294 49706\n",
            "we are rejacting null hypothises and accepting alternative hypotises\n"
          ]
        }
      ]
    }
  ]
}