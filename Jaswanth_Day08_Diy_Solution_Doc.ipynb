{
  "nbformat": 4,
  "nbformat_minor": 0,
  "metadata": {
    "colab": {
      "provenance": [],
      "authorship_tag": "ABX9TyOc0+kyNZPbTL64F6/PsY9c",
      "include_colab_link": true
    },
    "kernelspec": {
      "name": "python3",
      "display_name": "Python 3"
    },
    "language_info": {
      "name": "python"
    }
  },
  "cells": [
    {
      "cell_type": "markdown",
      "metadata": {
        "id": "view-in-github",
        "colab_type": "text"
      },
      "source": [
        "<a href=\"https://colab.research.google.com/github/jaswanthmathan/project/blob/main/Jaswanth_Day08_Diy_Solution_Doc.ipynb\" target=\"_parent\"><img src=\"https://colab.research.google.com/assets/colab-badge.svg\" alt=\"Open In Colab\"/></a>"
      ]
    },
    {
      "cell_type": "code",
      "execution_count": null,
      "metadata": {
        "id": "9MxNwhtSQUAL"
      },
      "outputs": [],
      "source": []
    },
    {
      "cell_type": "markdown",
      "source": [
        "Define a NumPy array with 4*5 dimensions, and swap the array's dimensions to\n",
        "make it 5*4 using suitable functions."
      ],
      "metadata": {
        "id": "UiNsof88QVSx"
      }
    },
    {
      "cell_type": "code",
      "source": [
        " import numpy as np\n",
        "#transpose\n",
        "arr_transposed = arr_reshaped.T\n",
        "print(\"\\nTransposed array:\\n\", arr_transposed)\n",
        " arr = np.arange(20)\n",
        " print(\"original array:\\n\",arr)\n",
        "# reshape\n",
        "arr_reshaped=arr.reshape((5,4))\n",
        "print(\"\\nReshaped array:\\n\", arr_reshaped)\n"
      ],
      "metadata": {
        "colab": {
          "base_uri": "https://localhost:8080/"
        },
        "id": "pnkXGogZQWad",
        "outputId": "5605d9f7-8566-445a-f36f-31030150a850"
      },
      "execution_count": null,
      "outputs": [
        {
          "output_type": "stream",
          "name": "stdout",
          "text": [
            "original array:\n",
            " [ 0  1  2  3  4  5  6  7  8  9 10 11 12 13 14 15 16 17 18 19]\n",
            "\n",
            "Reshaped array:\n",
            " [[ 0  1  2  3]\n",
            " [ 4  5  6  7]\n",
            " [ 8  9 10 11]\n",
            " [12 13 14 15]\n",
            " [16 17 18 19]]\n",
            "\n",
            "Transposed array:\n",
            " [[ 0  4  8 12 16]\n",
            " [ 1  5  9 13 17]\n",
            " [ 2  6 10 14 18]\n",
            " [ 3  7 11 15 19]]\n"
          ]
        }
      ]
    },
    {
      "cell_type": "markdown",
      "source": [
        "Write a Python program to create two 2-dimensional arrays and apply\n",
        "hstack(), vstack(), concatenate(), and split() functions to\n",
        "them to get the output as shown below."
      ],
      "metadata": {
        "id": "ke6Mj6m_RxmX"
      }
    },
    {
      "cell_type": "code",
      "source": [
        "import numpy as np\n",
        "\n",
        "# the first array\n",
        "arr1 = np.array([[1, 2], [3, 4]])\n",
        "print(\"First array is:\")\n",
        "print(arr1)\n",
        "print()\n",
        "\n",
        "#  the second array\n",
        "arr2 = np.array([[6, 7], [8, 9]])\n",
        "print(\"Second array is:\")\n",
        "print(arr2)\n",
        "print()\n",
        "\n",
        "# Applying hstack() function\n",
        "arr_h = np.hstack((arr1, arr2))\n",
        "print(\"Applying hstack() function :\")\n",
        "print(arr_h)\n",
        "print()\n",
        "\n",
        "# Applying vstack() function\n",
        "arr_v = np.vstack((arr1, arr2))\n",
        "print(\"Applying vstack() function :\")\n",
        "print(arr_v)\n",
        "print()\n",
        "\n",
        "# Applying concatenate() function\n",
        "arr_concat = np.concatenate((arr1, arr2), axis=1)\n",
        "print(\"Applying concatenate() function :\")\n",
        "print(arr_concat)\n",
        "print()\n",
        "\n",
        "# Applying split() function\n",
        "arr_split = np.split(arr_concat, 2)\n",
        "print(\"Applying Split () function:\")\n",
        "print(arr_split)\n",
        "\n",
        "\n",
        "\n",
        "\n",
        "\n",
        "\n",
        "\n",
        "\n"
      ],
      "metadata": {
        "id": "0NX8T8XLRzHo",
        "colab": {
          "base_uri": "https://localhost:8080/"
        },
        "outputId": "6a93453c-a312-44c9-be8c-27e5feb3632f"
      },
      "execution_count": null,
      "outputs": [
        {
          "output_type": "stream",
          "name": "stdout",
          "text": [
            "First array is:\n",
            "[[1 2]\n",
            " [3 4]]\n",
            "\n",
            "Second array is:\n",
            "[[6 7]\n",
            " [8 9]]\n",
            "\n",
            "Applying hstack() function :\n",
            "[[1 2 6 7]\n",
            " [3 4 8 9]]\n",
            "\n",
            "Applying vstack() function :\n",
            "[[1 2]\n",
            " [3 4]\n",
            " [6 7]\n",
            " [8 9]]\n",
            "\n",
            "Applying concatenate() function :\n",
            "[[1 2 6 7]\n",
            " [3 4 8 9]]\n",
            "\n",
            "Applying Split () function:\n",
            "[array([[1, 2, 6, 7]]), array([[3, 4, 8, 9]])]\n"
          ]
        }
      ]
    }
  ]
}