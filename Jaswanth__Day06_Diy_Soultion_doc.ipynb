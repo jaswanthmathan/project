{
  "nbformat": 4,
  "nbformat_minor": 0,
  "metadata": {
    "colab": {
      "provenance": [],
      "authorship_tag": "ABX9TyOIKo5kDeW8pPC9Uzix8EeH",
      "include_colab_link": true
    },
    "kernelspec": {
      "name": "python3",
      "display_name": "Python 3"
    },
    "language_info": {
      "name": "python"
    }
  },
  "cells": [
    {
      "cell_type": "markdown",
      "metadata": {
        "id": "view-in-github",
        "colab_type": "text"
      },
      "source": [
        "<a href=\"https://colab.research.google.com/github/jaswanthmathan/project/blob/main/Jaswanth__Day06_Diy_Soultion_doc.ipynb\" target=\"_parent\"><img src=\"https://colab.research.google.com/assets/colab-badge.svg\" alt=\"Open In Colab\"/></a>"
      ]
    },
    {
      "cell_type": "code",
      "execution_count": null,
      "metadata": {
        "id": "Yk6TnCNvHnQ1"
      },
      "outputs": [],
      "source": []
    },
    {
      "cell_type": "markdown",
      "source": [
        "Write a Python program that prints odd numbers from 1 to 30 using the NumPy\n",
        "array. Also, print the data type of output."
      ],
      "metadata": {
        "id": "5Mw4vBP4HoiG"
      }
    },
    {
      "cell_type": "code",
      "source": [
        "import numpy as np\n",
        "i= np.arange(1,30,2)\n",
        "\n",
        "print(i)\n",
        "\n",
        "print(type(i))"
      ],
      "metadata": {
        "colab": {
          "base_uri": "https://localhost:8080/"
        },
        "id": "RWl-j60AHuvf",
        "outputId": "6a6ffb10-b845-43ef-a22f-2f21c98ca857"
      },
      "execution_count": null,
      "outputs": [
        {
          "output_type": "stream",
          "name": "stdout",
          "text": [
            "[ 1  3  5  7  9 11 13 15 17 19 21 23 25 27 29]\n",
            "<class 'numpy.ndarray'>\n"
          ]
        }
      ]
    },
    {
      "cell_type": "markdown",
      "source": [
        "Write a Python program to declare a list and NumPy arrays(1-D, 2-D, and 3-D)\n",
        "and compare the size of the list and the arrays. Also, compare the size of each\n",
        "element in the list and the arrays (in terms of memory occupancy). "
      ],
      "metadata": {
        "id": "HSjiHMuCK5zU"
      }
    },
    {
      "cell_type": "code",
      "source": [
        "\n",
        "import numpy as np\n",
        "import sys\n",
        "\n",
        "# Declare a list\n",
        "my_list = [1, 2, 3, 4, 5]\n",
        "\n",
        "# Declare a 1-D numpy array\n",
        "array_1d = np.array([1, 2, 3, 4, 5])\n",
        "\n",
        "# Declare a 2-D numpy array\n",
        "array_2d = np.array([[1, 2, 3], [4, 5, 6]])\n",
        "\n",
        "# Declare a 3-D numpy array\n",
        "array_3d = np.array([[[1, 2], [3, 4]], [[5, 6], [7, 8]]])\n",
        "\n",
        "# Compare the size of the list and arrays\n",
        "print(\"Size of the list:\", sys.getsizeof(my_list), \"bytes\")\n",
        "print(\"Size of the 1-D array:\", array_1d.nbytes, \"bytes\")\n",
        "print(\"Size of the 2-D array:\", array_2d.nbytes, \"bytes\")\n",
        "print(\"Size of the 3-D array:\", array_3d.nbytes, \"bytes\")\n",
        "\n",
        "# Compare the size of each element in the list and arrays\n",
        "print(\"Size of each element in the list:\", sys.getsizeof(my_list[0]), \"bytes\")\n",
        "print(\"Size of each element in the 1-D array:\", array_1d.itemsize, \"bytes\")\n",
        "print(\"Size of each element in the 2-D array:\", array_2d.itemsize, \"bytes\")\n",
        "print(\"Size of each element in the 3-D array:\", array_3d.itemsize, \"bytes\")"
      ],
      "metadata": {
        "id": "Jl_LM17EK7yL",
        "colab": {
          "base_uri": "https://localhost:8080/"
        },
        "outputId": "cae795b7-d8cd-4b11-f8ed-0fc3cfd33cee"
      },
      "execution_count": null,
      "outputs": [
        {
          "output_type": "stream",
          "name": "stdout",
          "text": [
            "Size of the list: 96 bytes\n",
            "Size of the 1-D array: 40 bytes\n",
            "Size of the 2-D array: 48 bytes\n",
            "Size of the 3-D array: 64 bytes\n",
            "Size of each element in the list: 28 bytes\n",
            "Size of each element in the 1-D array: 8 bytes\n",
            "Size of each element in the 2-D array: 8 bytes\n",
            "Size of each element in the 3-D array: 8 bytes\n"
          ]
        }
      ]
    }
  ]
}