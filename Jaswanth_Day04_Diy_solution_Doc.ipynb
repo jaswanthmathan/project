{
  "nbformat": 4,
  "nbformat_minor": 0,
  "metadata": {
    "colab": {
      "provenance": [],
      "authorship_tag": "ABX9TyNCBPzdKSg+bj2jFEpYTD5Q",
      "include_colab_link": true
    },
    "kernelspec": {
      "name": "python3",
      "display_name": "Python 3"
    },
    "language_info": {
      "name": "python"
    }
  },
  "cells": [
    {
      "cell_type": "markdown",
      "metadata": {
        "id": "view-in-github",
        "colab_type": "text"
      },
      "source": [
        "<a href=\"https://colab.research.google.com/github/jaswanthmathan/project/blob/main/Jaswanth_Day04_Diy_solution_Doc.ipynb\" target=\"_parent\"><img src=\"https://colab.research.google.com/assets/colab-badge.svg\" alt=\"Open In Colab\"/></a>"
      ]
    },
    {
      "cell_type": "code",
      "execution_count": null,
      "metadata": {
        "id": "7bP4q8o82AeW"
      },
      "outputs": [],
      "source": []
    },
    {
      "cell_type": "markdown",
      "source": [
        "Write a Python program with a user-defined function that takes two\n",
        "integers as input, dividend, and divisor. Print the quotient and the\n",
        "remainder of the two numbers by dividing them using the “//” and “%”\n",
        "operators."
      ],
      "metadata": {
        "id": "ylC412Hc2gu0"
      }
    },
    {
      "cell_type": "code",
      "source": [
        "# user input\n",
        "dividend=int(input(\"enter the dividend:\"))\n",
        "divisor=int(input(\"enter the divisor:\"))\n",
        "#function declaration\n",
        "def divide_numbers(dividend,divisor):\n",
        "   quotient = dividend//divisor\n",
        "   print(\"quotient:\", quotient)\n",
        "   remainder = dividend%divisor\n",
        "   print(\"remainder\", remainder)\n",
        "#function calling\n",
        "divide_numbers(dividend,divisor)"
      ],
      "metadata": {
        "id": "r2FHIhKN2iOr",
        "colab": {
          "base_uri": "https://localhost:8080/"
        },
        "outputId": "0827686a-ab0d-488a-e893-8eca92f5c998"
      },
      "execution_count": null,
      "outputs": [
        {
          "output_type": "stream",
          "name": "stdout",
          "text": [
            "enter the dividend:100\n",
            "enter the divisor:10\n",
            "quotient: 10\n",
            "remainder 0\n"
          ]
        }
      ]
    },
    {
      "cell_type": "markdown",
      "source": [
        "Write a program in Python to calculate simple interest using the lambda\n",
        "function."
      ],
      "metadata": {
        "id": "wjErA8mL2jSQ"
      }
    },
    {
      "cell_type": "code",
      "source": [
        "#lambda function\n",
        "simple_interest=lambda p,r,t:(p*r*t)/100\n",
        "\n",
        "#getting inputs\n",
        "principal=float(input(\"enter the Principal amount\"))\n",
        "rate= float(input(\"enter the Rate\"))\n",
        "time = float(input(\"enter the time (in years):\"))\n",
        "\n",
        "#function calling and printing\n",
        "interest= simple_interest (principal,rate,time)\n",
        "print(\"simple_interest\", interest)"
      ],
      "metadata": {
        "id": "x2PkHFRs2vuf",
        "colab": {
          "base_uri": "https://localhost:8080/"
        },
        "outputId": "8ec33bfc-1faa-4121-c708-f1b1371a214f"
      },
      "execution_count": null,
      "outputs": [
        {
          "output_type": "stream",
          "name": "stdout",
          "text": [
            "enter the Principal amount1000\n",
            "enter the Rate10\n",
            "enter the time (in years):5\n",
            "simple_interest 500.0\n"
          ]
        }
      ]
    }
  ]
}