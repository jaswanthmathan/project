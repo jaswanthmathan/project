{
  "nbformat": 4,
  "nbformat_minor": 0,
  "metadata": {
    "colab": {
      "provenance": [],
      "authorship_tag": "ABX9TyMi/8kSd6jedIoCl5oigIxq",
      "include_colab_link": true
    },
    "kernelspec": {
      "name": "python3",
      "display_name": "Python 3"
    },
    "language_info": {
      "name": "python"
    }
  },
  "cells": [
    {
      "cell_type": "markdown",
      "metadata": {
        "id": "view-in-github",
        "colab_type": "text"
      },
      "source": [
        "<a href=\"https://colab.research.google.com/github/jaswanthmathan/project/blob/main/Jaswanth_Day07_Diy_Solution_doc.ipynb\" target=\"_parent\"><img src=\"https://colab.research.google.com/assets/colab-badge.svg\" alt=\"Open In Colab\"/></a>"
      ]
    },
    {
      "cell_type": "markdown",
      "source": [],
      "metadata": {
        "id": "2VpYeJwDIam5"
      }
    },
    {
      "cell_type": "markdown",
      "source": [
        "Write  a  Python  program  that  takes  the  speeds  of  any  vehicle  to  store  it  in  a NumPy array and calculates the average speed.Note:Use NumPy functions to get the desired output."
      ],
      "metadata": {
        "id": "hsfT20TSIapq"
      }
    },
    {
      "cell_type": "code",
      "source": [
        "import numpy as np\n",
        "\n",
        "num_speeds =int (input(\"what number of speed you want to enter?\"))\n",
        "a=  int(input(\"Enter the speeds in Km/hr:\")) \n",
        "b=  int(input(\"Enter the speeds in Km/hr:\")) \n",
        "c=  int(input(\"Enter the speeds in Km/hr:\")) \n",
        "d=  int(input(\"Enter the speeds in Km/hr:\")) \n",
        "e=  int(input(\"Enter the speeds in Km/hr:\")) \n",
        "speeds=np.array([a,b,c,d,e])\n",
        "mean=np.mean(speeds)\n",
        "print(\"The Average speed is :\",mean ,\"km/hr\")"
      ],
      "metadata": {
        "id": "SBSBexVKIb6e",
        "colab": {
          "base_uri": "https://localhost:8080/"
        },
        "outputId": "3fe7789c-2b62-4101-9b03-ee5e3e0f4ffe"
      },
      "execution_count": null,
      "outputs": [
        {
          "output_type": "stream",
          "name": "stdout",
          "text": [
            "what number of speed you want to enter?5\n",
            "Enter the speeds in Km/hr:92\n",
            "Enter the speeds in Km/hr:76\n",
            "Enter the speeds in Km/hr:83\n",
            "Enter the speeds in Km/hr:78\n",
            "Enter the speeds in Km/hr:84\n",
            "The Average speed is : 82.6 km/hr\n"
          ]
        }
      ]
    },
    {
      "cell_type": "markdown",
      "source": [
        "Write a Python program to generate a 3-D array with integers of your choice, perform indexing, and print the first two rows and last two columns of the array.Note: UseNumPyarange()functiontogeneratearandomarray"
      ],
      "metadata": {
        "id": "87a0oCdhPKjj"
      }
    },
    {
      "cell_type": "code",
      "source": [
        "import numpy as np\n",
        "\n",
        "# Generate a 3D array with random integers\n",
        "array= np.arange(20).reshape(5,4)\n",
        "# Print the first two rows and last two columns of the array\n",
        "print(\"the array is:\")\n",
        "print(array)\n",
        "print(\"The first two rows are:\")\n",
        "print(array[:2,:])\n",
        "print(\"The last two columns are:\")\n",
        "print(array[ :, -2:])"
      ],
      "metadata": {
        "colab": {
          "base_uri": "https://localhost:8080/"
        },
        "id": "fhtbJmlGPZL5",
        "outputId": "8a5f8a0e-7021-4903-acf5-5c539756ae31"
      },
      "execution_count": null,
      "outputs": [
        {
          "output_type": "stream",
          "name": "stdout",
          "text": [
            "the array is:\n",
            "[[ 0  1  2  3]\n",
            " [ 4  5  6  7]\n",
            " [ 8  9 10 11]\n",
            " [12 13 14 15]\n",
            " [16 17 18 19]]\n",
            "The first two rows are:\n",
            "[[0 1 2 3]\n",
            " [4 5 6 7]]\n",
            "The last two columns are:\n",
            "[[ 2  3]\n",
            " [ 6  7]\n",
            " [10 11]\n",
            " [14 15]\n",
            " [18 19]]\n"
          ]
        }
      ]
    }
  ]
}