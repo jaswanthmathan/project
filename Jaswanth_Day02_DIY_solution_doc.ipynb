{
  "nbformat": 4,
  "nbformat_minor": 0,
  "metadata": {
    "colab": {
      "provenance": [],
      "authorship_tag": "ABX9TyP3B6BZ0tOI/IB05jvTbZ3o",
      "include_colab_link": true
    },
    "kernelspec": {
      "name": "python3",
      "display_name": "Python 3"
    },
    "language_info": {
      "name": "python"
    }
  },
  "cells": [
    {
      "cell_type": "markdown",
      "metadata": {
        "id": "view-in-github",
        "colab_type": "text"
      },
      "source": [
        "<a href=\"https://colab.research.google.com/github/jaswanthmathan/project/blob/main/Jaswanth_Day02_DIY_solution_doc.ipynb\" target=\"_parent\"><img src=\"https://colab.research.google.com/assets/colab-badge.svg\" alt=\"Open In Colab\"/></a>"
      ]
    },
    {
      "cell_type": "code",
      "execution_count": null,
      "metadata": {
        "id": "6YU6N6j_GUhD"
      },
      "outputs": [],
      "source": []
    },
    {
      "cell_type": "markdown",
      "source": [
        "Write a Python program that takes marks as input for six subjects, with\n",
        "maximum marks being 600, and prints total marks, average marks, and\n",
        "percentages obtained by a student."
      ],
      "metadata": {
        "id": "8Q2KvbTeGYe2"
      }
    },
    {
      "cell_type": "code",
      "source": [
        "a=int(input('Enter the marks out of 100 obtained in subject-1:'))\n",
        "b=int(input('Enter the marks out of 100 obtained in subject-2:'))\n",
        "c=int(input('Enter the marks out of 100 obtained in subject-3:'))\n",
        "d=int(input('Enter the marks out of 100 obtained in subject-4:'))\n",
        "e=int(input('Enter the marks in out of 100 obtained  subject-5:'))\n",
        "f=int(input('Enter the marks in out of 100 obtained subject-6:'))\n",
        "#caclute total marks\n",
        "total= a+b+c+d+e+f\n",
        "#calculate average marks\n",
        "avg=total/600\n",
        "#calculate percentage\n",
        "percent=(total/600)*100\n",
        "#print the result\n",
        "print(\"total marks:\",total)\n",
        "print(\"Average marks:\",avg)\n",
        "print(\"percentage:\",percent,\"%\")\n",
        "#call the function\n"
      ],
      "metadata": {
        "colab": {
          "base_uri": "https://localhost:8080/"
        },
        "id": "_r4e2DPDGcCr",
        "outputId": "0b812fac-c808-4c46-a6b7-598f8907a359"
      },
      "execution_count": null,
      "outputs": [
        {
          "output_type": "stream",
          "name": "stdout",
          "text": [
            "Enter the marks out of 100 obtained in subject-1:89\n",
            "Enter the marks out of 100 obtained in subject-2:89\n",
            "Enter the marks out of 100 obtained in subject-3:99\n",
            "Enter the marks out of 100 obtained in subject-4:99\n",
            "Enter the marks in out of 100 obtained  subject-5:87\n",
            "Enter the marks in out of 100 obtained subject-6:88\n",
            "total marks: 551\n",
            "Average marks: 0.9183333333333333\n",
            "percentage: 91.83333333333333 %\n"
          ]
        }
      ]
    },
    {
      "cell_type": "markdown",
      "source": [
        "Declare a nested list with Exam scores and Student names as shown here -\n",
        "\"score=[[510, 'John'],[280, 'Lucy']……]\".Write a Python program\n",
        "to sort the list based on scores and print the students' names with first and\n",
        "second-highest scores"
      ],
      "metadata": {
        "id": "Q_L_Kfy7O0hJ"
      }
    },
    {
      "cell_type": "code",
      "source": [
        "scores= [[510, 'John'], [280, 'Lucy'], [450, 'Michael'], [650, 'Sarah'], [400, 'David']]\n",
        "print(scores)\n",
        "scores.sort()\n",
        "print(scores)\n",
        "scores.reverse()\n",
        "print(scores)\n",
        "print(\"the first highest student name\",scores[0][1])\n",
        "print(\"the second highest student name\", scores[1][1])"
      ],
      "metadata": {
        "colab": {
          "base_uri": "https://localhost:8080/"
        },
        "id": "k1iAnJCjO5Cz",
        "outputId": "0f5eea32-8878-4814-cd7a-bb1564bfcfcb"
      },
      "execution_count": null,
      "outputs": [
        {
          "output_type": "stream",
          "name": "stdout",
          "text": [
            "[[510, 'John'], [280, 'Lucy'], [450, 'Michael'], [650, 'Sarah'], [400, 'David']]\n",
            "[[280, 'Lucy'], [400, 'David'], [450, 'Michael'], [510, 'John'], [650, 'Sarah']]\n",
            "[[650, 'Sarah'], [510, 'John'], [450, 'Michael'], [400, 'David'], [280, 'Lucy']]\n",
            "the first highest student name Sarah\n",
            "the second highest student name John\n"
          ]
        }
      ]
    },
    {
      "cell_type": "code",
      "source": [
        "for i in range(3):\n",
        "  pass"
      ],
      "metadata": {
        "id": "ZWWQHohiZHbq"
      },
      "execution_count": null,
      "outputs": []
    },
    {
      "cell_type": "markdown",
      "source": [],
      "metadata": {
        "id": "fgCqODMuGVIt"
      }
    }
  ]
}