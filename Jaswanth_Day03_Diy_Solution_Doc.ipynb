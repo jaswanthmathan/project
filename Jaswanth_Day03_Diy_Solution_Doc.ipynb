{
  "nbformat": 4,
  "nbformat_minor": 0,
  "metadata": {
    "colab": {
      "provenance": [],
      "authorship_tag": "ABX9TyPIKC/XTE4pJg+iQs+YjbmU",
      "include_colab_link": true
    },
    "kernelspec": {
      "name": "python3",
      "display_name": "Python 3"
    },
    "language_info": {
      "name": "python"
    }
  },
  "cells": [
    {
      "cell_type": "markdown",
      "metadata": {
        "id": "view-in-github",
        "colab_type": "text"
      },
      "source": [
        "<a href=\"https://colab.research.google.com/github/jaswanthmathan/project/blob/main/Jaswanth_Day03_Diy_Solution_Doc.ipynb\" target=\"_parent\"><img src=\"https://colab.research.google.com/assets/colab-badge.svg\" alt=\"Open In Colab\"/></a>"
      ]
    },
    {
      "cell_type": "code",
      "execution_count": null,
      "metadata": {
        "id": "zjcExvdefGk8"
      },
      "outputs": [],
      "source": [
        "\n"
      ]
    },
    {
      "cell_type": "markdown",
      "source": [
        "Write a Python program that takes a character as input from the user and prints\n",
        "whether the character entered by the user is a vowel or a consonant.\n"
      ],
      "metadata": {
        "id": "-S5EAsHbfTqq"
      }
    },
    {
      "cell_type": "code",
      "source": [
        "char = input(\"hello user plz enter a character:\")\n",
        "if char.lower() in['a','e','i','o','u']:\n",
        "  print(\"the character is a vowel.\")\n",
        "else:\n",
        "    print(\"the character is a consonant\")"
      ],
      "metadata": {
        "colab": {
          "base_uri": "https://localhost:8080/"
        },
        "id": "zFJF079jfXbO",
        "outputId": "d4cb264c-efd2-45f4-ae09-cd8ee642ac98"
      },
      "execution_count": null,
      "outputs": [
        {
          "output_type": "stream",
          "name": "stdout",
          "text": [
            "hello user plz enter a character:U\n",
            "the character is a vowel.\n"
          ]
        }
      ]
    },
    {
      "cell_type": "markdown",
      "source": [
        "Write a Python program that takes an integer as input and prints a multiplication\n",
        "table from 1 to 10."
      ],
      "metadata": {
        "id": "jD8FAu7ejcC-"
      }
    },
    {
      "cell_type": "code",
      "source": [
        "num = int(input(\"plz enter a number:\"))\n",
        "for i in range(1,11):\n",
        "  print(num,\"x\",i,\"=\",num*i)"
      ],
      "metadata": {
        "id": "tTSprQd_je6e",
        "colab": {
          "base_uri": "https://localhost:8080/"
        },
        "outputId": "8648bbb8-79ce-4af0-889a-d29d28b6bd1b"
      },
      "execution_count": null,
      "outputs": [
        {
          "output_type": "stream",
          "name": "stdout",
          "text": [
            "plz enter a number:5\n",
            "5 x 1 = 5\n",
            "5 x 2 = 10\n",
            "5 x 3 = 15\n",
            "5 x 4 = 20\n",
            "5 x 5 = 25\n",
            "5 x 6 = 30\n",
            "5 x 7 = 35\n",
            "5 x 8 = 40\n",
            "5 x 9 = 45\n",
            "5 x 10 = 50\n"
          ]
        }
      ]
    }
  ]
}