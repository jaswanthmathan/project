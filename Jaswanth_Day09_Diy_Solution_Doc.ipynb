{
  "nbformat": 4,
  "nbformat_minor": 0,
  "metadata": {
    "colab": {
      "provenance": [],
      "authorship_tag": "ABX9TyMq92ER7FhKvrXIgerW5pgT",
      "include_colab_link": true
    },
    "kernelspec": {
      "name": "python3",
      "display_name": "Python 3"
    },
    "language_info": {
      "name": "python"
    }
  },
  "cells": [
    {
      "cell_type": "markdown",
      "metadata": {
        "id": "view-in-github",
        "colab_type": "text"
      },
      "source": [
        "<a href=\"https://colab.research.google.com/github/jaswanthmathan/project/blob/main/Jaswanth_Day09_Diy_Solution_Doc.ipynb\" target=\"_parent\"><img src=\"https://colab.research.google.com/assets/colab-badge.svg\" alt=\"Open In Colab\"/></a>"
      ]
    },
    {
      "cell_type": "markdown",
      "source": [
        "Write a Python program that reads text from a poem.txt file (Provided on the\n",
        "LMS) in read-only mode and prints it line-by-line."
      ],
      "metadata": {
        "id": "Ov1WoahumT70"
      }
    },
    {
      "cell_type": "code",
      "source": [
        "f=open('Poem.txt','r')\n",
        "for line in f:\n",
        "      print( line ,end='')\n",
        "f.close()\n"
      ],
      "metadata": {
        "colab": {
          "base_uri": "https://localhost:8080/"
        },
        "id": "FSS3rarMuhxL",
        "outputId": "7871a365-e62f-4fc1-fdba-8e6a469b4133"
      },
      "execution_count": null,
      "outputs": [
        {
          "output_type": "stream",
          "name": "stdout",
          "text": [
            "Jack and Jill went up the hill\n",
            "To fetch a pail of water.\n",
            "Jack fell down and broke his crown,\n",
            "And Jill came tumbling after.\n",
            "Then up got Jack and said to Jill,\n",
            "As in his arms he took her,\n",
            "“Brush off that dirt for you’re not hurt,\n",
            "Let’s fetch that pail of water.”\n",
            "So Jack and Jill went up the hill\n",
            "To fetch the pail of water,\n",
            "And took it home to Mother dear,\n",
            "Who thanked her son and daughter.\n",
            "\n"
          ]
        }
      ]
    },
    {
      "cell_type": "markdown",
      "source": [
        "Write a Python program that opens the poem.txt file (Provided on the LMS).\n",
        "Replace all the words in the poem, starting from “J” to “K,” and print the new\n",
        "version of the poem."
      ],
      "metadata": {
        "id": "yCiPr2QVnEcH"
      }
    },
    {
      "cell_type": "markdown",
      "source": [
        "f=open('Poem.txt',\"r\")\n"
      ],
      "metadata": {
        "id": "q8DIsqQrnGBn"
      }
    },
    {
      "cell_type": "code",
      "source": [
        "f=open(\"Poem.txt\",\"r\")\n",
        "d=f.read()\n",
        "for i in d:\n",
        "  if i ==\"J\":\n",
        "    print('K',end=\"\")\n",
        "  else:\n",
        "    print(i,end=\"\")\n",
        "f.close()\n",
        "    "
      ],
      "metadata": {
        "colab": {
          "base_uri": "https://localhost:8080/"
        },
        "id": "DSd7YBqi2YM8",
        "outputId": "fd576f74-5cfe-4fbb-f1d0-2c144021eab6"
      },
      "execution_count": null,
      "outputs": [
        {
          "output_type": "stream",
          "name": "stdout",
          "text": [
            "Kack and Kill went up the hill\n",
            "To fetch a pail of water.\n",
            "Kack fell down and broke his crown,\n",
            "And Kill came tumbling after.\n",
            "Then up got Kack and said to Kill,\n",
            "As in his arms he took her,\n",
            "“Brush off that dirt for you’re not hurt,\n",
            "Let’s fetch that pail of water.”\n",
            "So Kack and Kill went up the hill\n",
            "To fetch the pail of water,\n",
            "And took it home to Mother dear,\n",
            "Who thanked her son and daughter.\n",
            "\n"
          ]
        }
      ]
    }
  ]
}